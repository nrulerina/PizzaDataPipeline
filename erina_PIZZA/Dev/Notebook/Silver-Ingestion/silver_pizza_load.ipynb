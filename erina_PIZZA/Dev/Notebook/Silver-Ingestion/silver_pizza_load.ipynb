{
 "cells": [
  {
   "cell_type": "code",
   "execution_count": 1,
   "id": "cf6fdfc4",
   "metadata": {},
   "outputs": [
    {
     "name": "stdout",
     "output_type": "stream",
     "text": [
      "['SQL Server', 'Microsoft Access Driver (*.mdb, *.accdb)', 'Microsoft Excel Driver (*.xls, *.xlsx, *.xlsm, *.xlsb)', 'Microsoft Access Text Driver (*.txt, *.csv)', 'SQL Server Native Client RDA 11.0', 'ODBC Driver 17 for SQL Server']\n"
     ]
    }
   ],
   "source": [
    "import pandas as pd \n",
    "import datetime\n",
    "import pyodbc\n",
    "print(pyodbc.drivers())"
   ]
  },
  {
   "cell_type": "code",
   "execution_count": 2,
   "id": "44f80435",
   "metadata": {},
   "outputs": [],
   "source": [
    "conn = pyodbc.connect(\n",
    "    \"DRIVER={ODBC Driver 17 for SQL Server};\"\n",
    "    \"SERVER=DESKTOP-LGEL5NK\\\\SQLEXPRESS;\"\n",
    "    \"DATABASE=PizzaDB;\"\n",
    "    \"Trusted_Connection=yes;\"\n",
    "    \"timeout=30;\"\n",
    ")"
   ]
  },
  {
   "cell_type": "code",
   "execution_count": 3,
   "id": "774842b7",
   "metadata": {},
   "outputs": [
    {
     "ename": "ProgrammingError",
     "evalue": "('42S01', \"[42S01] [Microsoft][ODBC Driver 17 for SQL Server][SQL Server]There is already an object named 'silver' in the database. (2714) (SQLExecDirectW); [42S01] [Microsoft][ODBC Driver 17 for SQL Server][SQL Server]CREATE SCHEMA failed due to previous errors. (2759)\")",
     "output_type": "error",
     "traceback": [
      "\u001b[31m---------------------------------------------------------------------------\u001b[39m",
      "\u001b[31mProgrammingError\u001b[39m                          Traceback (most recent call last)",
      "\u001b[36mCell\u001b[39m\u001b[36m \u001b[39m\u001b[32mIn[3]\u001b[39m\u001b[32m, line 4\u001b[39m\n\u001b[32m      1\u001b[39m cursor = conn.cursor()\n\u001b[32m      3\u001b[39m \u001b[38;5;66;03m# Create database if not exists\u001b[39;00m\n\u001b[32m----> \u001b[39m\u001b[32m4\u001b[39m \u001b[43mcursor\u001b[49m\u001b[43m.\u001b[49m\u001b[43mexecute\u001b[49m\u001b[43m(\u001b[49m\u001b[33;43m\"\u001b[39;49m\u001b[33;43mCREATE SCHEMA silver\u001b[39;49m\u001b[33;43m\"\u001b[39;49m\u001b[43m)\u001b[49m\n\u001b[32m      5\u001b[39m conn.commit()\n",
      "\u001b[31mProgrammingError\u001b[39m: ('42S01', \"[42S01] [Microsoft][ODBC Driver 17 for SQL Server][SQL Server]There is already an object named 'silver' in the database. (2714) (SQLExecDirectW); [42S01] [Microsoft][ODBC Driver 17 for SQL Server][SQL Server]CREATE SCHEMA failed due to previous errors. (2759)\")"
     ]
    }
   ],
   "source": [
    "cursor = conn.cursor()\n",
    "\n",
    "# Create database if not exists\n",
    "cursor.execute(\"CREATE SCHEMA silver\")\n",
    "conn.commit()"
   ]
  },
  {
   "cell_type": "code",
   "execution_count": 4,
   "id": "2c9074f3",
   "metadata": {},
   "outputs": [
    {
     "name": "stdout",
     "output_type": "stream",
     "text": [
      "Table silver.pizza_sales created successfully.\n"
     ]
    }
   ],
   "source": [
    "\n",
    "\n",
    "cursor = conn.cursor()\n",
    "\n",
    "# SQL command to create the silver.pizza_sales table\n",
    "create_table_sql = '''\n",
    "CREATE TABLE silver.pizza_sales (\n",
    "    pizza_id INT,\n",
    "    order_id INT,\n",
    "    pizza_name_id VARCHAR(255),\n",
    "    quantity INT,\n",
    "    order_date DATE,\n",
    "    order_time TIME,\n",
    "    unit_price FLOAT,\n",
    "    total_price FLOAT,\n",
    "    pizza_size VARCHAR(255),\n",
    "    pizza_category VARCHAR(255),\n",
    "    pizza_ingredients VARCHAR(255),\n",
    "    pizza_name VARCHAR(255),\n",
    "    src_file_name NVARCHAR(255),\n",
    "    ingestion_date DATETIME2,\n",
    "    tbl_updated_date DATE\n",
    ");\n",
    "'''\n",
    "\n",
    "# Execute and commit\n",
    "cursor.execute(create_table_sql)\n",
    "conn.commit()\n",
    "print(\"Table silver.pizza_sales created successfully.\")\n",
    "\n",
    "# Clean up\n",
    "cursor.close()\n",
    "conn.close()"
   ]
  }
 ],
 "metadata": {
  "kernelspec": {
   "display_name": "erina-venv",
   "language": "python",
   "name": "python3"
  },
  "language_info": {
   "codemirror_mode": {
    "name": "ipython",
    "version": 3
   },
   "file_extension": ".py",
   "mimetype": "text/x-python",
   "name": "python",
   "nbconvert_exporter": "python",
   "pygments_lexer": "ipython3",
   "version": "3.13.3"
  }
 },
 "nbformat": 4,
 "nbformat_minor": 5
}
